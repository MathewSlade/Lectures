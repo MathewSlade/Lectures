{
 "cells": [
  {
   "cell_type": "markdown",
   "metadata": {},
   "source": [
    "Assignment 2 | MATHEW SLADE"
   ]
  },
  {
   "cell_type": "markdown",
   "metadata": {},
   "source": [
    "https://docs.scipy.org/doc/scipy/reference/generated/scipy.integrate.odeint.html"
   ]
  },
  {
   "cell_type": "code",
   "execution_count": 270,
   "metadata": {},
   "outputs": [],
   "source": [
    "from scipy.integrate import odeint\n",
    "import matplotlib.pyplot as plt # for plotting          \n",
    "import numpy as np\n",
    "from copy import copy\n",
    "from math import sin, cos, pi"
   ]
  },
  {
   "cell_type": "code",
   "execution_count": 1,
   "metadata": {},
   "outputs": [],
   "source": [
    "from scipy.integrate import odeint\n",
    "import matplotlib.pyplot as plt # for plotting          \n",
    "import numpy as np\n",
    "from copy import copy\n",
    "#modified for 3 dimensions\n",
    "class Particle(object):\n",
    "\n",
    "    \"\"\"Class that describes particle\"\"\"\n",
    "    m = 1.0\n",
    "\n",
    "    def __init__(self, x0=0.0, y0=0.0, z0=0.0, vx0=0.0, vy0=0.0, vz0=0.0, mz = 0.0, tf = 10.0, dt = 0.001):\n",
    "        self.x = x0\n",
    "        self.y = y0\n",
    "        self.z = z0\n",
    "        self.vx = vx0\n",
    "        self.vy = vy0\n",
    "        self.vz = vz0\n",
    "        self.t = 0.0\n",
    "        self.tf = tf\n",
    "        self.dt = dt\n",
    "\n",
    "        self.tlabel = 'time (s)'\n",
    "        self.xlabel = 'x (m)'\n",
    "        self.ylabel = 'y (m)'\n",
    "        self.zlabel = 'z (m)'\n",
    "        self.vxlabel = 'vx (m/s)'\n",
    "        self.vylabel = 'vy (m/s)'\n",
    "        self.vzlabel = 'vz (m/s)'\n",
    "\n",
    "        npoints = int(tf/dt) # always starting at t = 0.0\n",
    "        self.npoints = npoints\n",
    "        self.tarray = np.linspace(0.0, tf,npoints, endpoint = True) # include final timepoint\n",
    "        self.xv0 = np.array([self.x, self.vx]) # NumPy array with initial position and velocity\n",
    "        self.yv0 = np.array([self.y, self.vy])\n",
    "        self.zv0 = np.array([self.z, self.vz])\n",
    "\n",
    "        print(\"A new particle has been init'd\")\n",
    "\n",
    "    def Fx(self, x, vx, t):\n",
    "        # The force on a free particle is 0\n",
    "        return array([0.0])\n",
    "    \n",
    "    def Fy(self, y, vy, t):\n",
    "        # The force on a free particle is 0\n",
    "        return array([0.0])\n",
    "    \n",
    "    def Fz(self, z, vz, t):\n",
    "        # The force on a free particle is 0\n",
    "        return array([0.0])\n",
    "    \n",
    "    def xEuler_step(self): \n",
    "        a = self.Fx(self.x, self.vx, self.t) / self.m\n",
    "        self.x += self.vx * self.dt\n",
    "        self.vx += a * self.dt\n",
    "        self.t += self.dt\n",
    "        \n",
    "    def yEuler_step(self): \n",
    "        \"\"\"\n",
    "        Take a single time step using Euler method\n",
    "        \"\"\"\n",
    "        \n",
    "        a = self.Fy(self.y, self.vy, self.t) / self.m\n",
    "        self.y += self.vy * self.dt\n",
    "        self.vy += a * self.dt\n",
    "        self.t += self.dt\n",
    "        \n",
    "    def zEuler_step(self): \n",
    "        \"\"\"\n",
    "        Take a single time step using Euler method\n",
    "        \"\"\"\n",
    "        \n",
    "        a = self.Fz(self.z, self.vz, self.t) / self.m\n",
    "        self.z += self.vz * self.dt\n",
    "        self.vz += a * self.dt\n",
    "        self.t += self.dt\n",
    "\n",
    "    def xRK4_step(self):\n",
    "        \"\"\"\n",
    "        Take a single time step using RK4 midpoint method\n",
    "        \"\"\"\n",
    "        \n",
    "        a1 = self.Fx(self.x, self.vx, self.t) / self.m\n",
    "        k1 = np.array([self.vx, a1])*self.dt\n",
    "\n",
    "        a2 = self.Fx(self.x+k1[0]/2, self.vx+k1[1]/2, self.t+self.dt/2) / self.m\n",
    "        k2 = np.array([self.vx+k1[1]/2 ,a2])*self.dt\n",
    "        \n",
    "        a3 = self.Fx(self.x+k2[0]/2, self.vx+k2[1]/2, self.t+self.dt/2) / self.m\n",
    "        k3 = np.array([self.vx+k2[1]/2, a3])*self.dt\n",
    "        \n",
    "        a4 = self.Fx(self.x+k3[0], self.vx+k3[1], self.t+self.dt) / self.m\n",
    "        k4 = np.array([self.vx+k3[1], a4])*self.dt\n",
    "\n",
    "        self.x += (k1[0]+ k4[0])/6 + (k2[0] + k3[0])/3\n",
    "        self.vx += (k1[1]+ k4[1])/6 + (k2[1] + k3[1])/3\n",
    "        \n",
    "        self.t += self.dt\n",
    "        \n",
    "    def yRK4_step(self):\n",
    "        \"\"\"\n",
    "        Take a single time step using RK4 midpoint method\n",
    "        \"\"\"\n",
    "        \n",
    "        a1 = self.Fy(self.y, self.vy, self.t) / self.m\n",
    "        k1 = np.array([self.vy, a1])*self.dt\n",
    "\n",
    "        a2 = self.Fy(self.y+k1[0]/2, self.vy+k1[1]/2, self.t+self.dt/2) / self.m\n",
    "        k2 = np.array([self.vy+k1[1]/2 ,a2])*self.dt\n",
    "        \n",
    "        a3 = self.Fy(self.y+k2[0]/2, self.vy+k2[1]/2, self.t+self.dt/2) / self.m\n",
    "        k3 = np.array([self.vy+k2[1]/2, a3])*self.dt\n",
    "        \n",
    "        a4 = self.Fy(self.y+k3[0], self.vy+k3[1], self.t+self.dt) / self.m\n",
    "        k4 = np.array([self.vy+k3[1], a4])*self.dt\n",
    "\n",
    "        self.y += (k1[0]+ k4[0])/6 + (k2[0] + k3[0])/3\n",
    "        self.vy += (k1[1]+ k4[1])/6 + (k2[1] + k3[1])/3\n",
    "        \n",
    "        self.t += self.dt\n",
    "        \n",
    "    def zRK4_step(self):\n",
    "        \"\"\"\n",
    "        Take a single time step using RK4 midpoint method\n",
    "        \"\"\"\n",
    "        \n",
    "        a1 = self.Fz(self.z, self.vz, self.t) / self.m\n",
    "        k1 = np.array([self.vz, a1])*self.dt\n",
    "\n",
    "        a2 = self.Fz(self.z+k1[0]/2, self.vz+k1[1]/2, self.t+self.dt/2) / self.m\n",
    "        k2 = np.array([self.vz+k1[1]/2 ,a2])*self.dt\n",
    "        \n",
    "        a3 = self.Fz(self.z+k2[0]/2, self.vz+k2[1]/2, self.t+self.dt/2) / self.m\n",
    "        k3 = np.array([self.vz+k2[1]/2, a3])*self.dt\n",
    "        \n",
    "        a4 = self.Fz(self.z+k3[0], self.vz+k3[1], self.t+self.dt) / self.m\n",
    "        k4 = np.array([self.vz+k3[1], a4])*self.dt\n",
    "\n",
    "        self.z += (k1[0]+ k4[0])/6 + (k2[0] + k3[0])/3\n",
    "        self.vz += (k1[1]+ k4[1])/6 + (k2[1] + k3[1])/3\n",
    "        \n",
    "        self.t += self.dt\n",
    "\n",
    "    def xEuler_trajectory(self):  \n",
    "        \"\"\"\n",
    "        Loop over all time steps to construct a trajectory with Euler method\n",
    "        Will reinitialize euler trajectory everytime this method is called\n",
    "        \"\"\"\n",
    "        \n",
    "        x_euler = []\n",
    "        vx_euler = []\n",
    "        \n",
    "        while(self.t < self.tf-self.dt/2):\n",
    "            vx_euler.append(self.vx)\n",
    "            x_euler.append(self.x)\n",
    "            self.xEuler_step()\n",
    "        \n",
    "        self.x_euler = np.array(x_euler)\n",
    "        self.vx_euler = np.array(vx_euler)\n",
    "        \n",
    "    def yEuler_trajectory(self):  \n",
    "        \"\"\"\n",
    "        Loop over all time steps to construct a trajectory with Euler method\n",
    "        Will reinitialize euler trajectory everytime this method is called\n",
    "        \"\"\"\n",
    "        \n",
    "        y_euler = []\n",
    "        vy_euler = []\n",
    "        \n",
    "        while(self.t < self.tf-self.dt/2):\n",
    "            vy_euler.append(self.vy)\n",
    "            y_euler.append(self.y)\n",
    "            self.yEuler_step()\n",
    "        \n",
    "        self.y_euler = np.array(y_euler)\n",
    "        self.vy_euler = np.array(vy_euler)\n",
    "        \n",
    "    def zEuler_trajectory(self):  \n",
    "        \"\"\"\n",
    "        Loop over all time steps to construct a trajectory with Euler method\n",
    "        Will reinitialize euler trajectory everytime this method is called\n",
    "        \"\"\"\n",
    "        \n",
    "        z_euler = []\n",
    "        vz_euler = []\n",
    "        \n",
    "        while(self.t < self.tf-self.dt/2):\n",
    "            vz_euler.append(self.vz)\n",
    "            z_euler.append(self.z)\n",
    "            self.zEuler_step()\n",
    "        \n",
    "        self.z_euler = np.array(z_euler)\n",
    "        self.vz_euler = np.array(vz_euler)    \n",
    "    \n",
    "    def xRK4_trajectory(self): \n",
    "        \"\"\"\n",
    "        Loop over all time steps to construct a trajectory with RK4 method\n",
    "        Will reinitialize euler trajectory everytime this method is called\n",
    "        \"\"\"\n",
    "        \n",
    "        x_RK4 = []\n",
    "        vx_RK4 = []\n",
    "        \n",
    "        while(self.t < self.tf - self.dt/2):\n",
    "            x_RK4.append(self.x)\n",
    "            vx_RK4.append(self.vx)\n",
    "            self.xRK4_step()\n",
    "\n",
    "        self.x_RK4 = np.array(x_RK4)\n",
    "        self.vx_RK4 = np.array(vx_RK4)\n",
    "        \n",
    "    def yRK4_trajectory(self): \n",
    "        \"\"\"\n",
    "        Loop over all time steps to construct a trajectory with RK4 method\n",
    "        Will reinitialize euler trajectory everytime this method is called\n",
    "        \"\"\"\n",
    "        \n",
    "        y_RK4 = []\n",
    "        vy_RK4 = []\n",
    "        \n",
    "        while(self.t < self.tf - self.dt/2):\n",
    "            y_RK4.append(self.y)\n",
    "            vy_RK4.append(self.vy)\n",
    "            self.yRK4_step()\n",
    "\n",
    "        self.y_RK4 = np.array(y_RK4)\n",
    "        self.vy_RK4 = np.array(vy_RK4)\n",
    "        \n",
    "    def zRK4_trajectory(self): \n",
    "        \"\"\"\n",
    "        Loop over all time steps to construct a trajectory with RK4 method\n",
    "        Will reinitialize euler trajectory everytime this method is called\n",
    "        \"\"\"\n",
    "        \n",
    "        z_RK4 = []\n",
    "        vz_RK4 = []\n",
    "        \n",
    "        while(self.t < self.tf - self.dt/2):\n",
    "            z_RK4.append(self.z)\n",
    "            vz_RK4.append(self.vz)\n",
    "            self.zRK4_step()\n",
    "\n",
    "        self.z_RK4 = np.array(z_RK4)\n",
    "        self.vz_RK4 = np.array(vz_RK4)    \n",
    "\n",
    "    def scipy_trajectory(self):\n",
    "        \"\"\"calculate trajectory using SciPy ode integrator\"\"\"\n",
    "        \n",
    "        self.xv = odeint(self.derivative, self.xv0, self.tarray)\n",
    "\n",
    "    def derivative(self, xv, t):\n",
    "        \"\"\"right hand side of the differential equation\n",
    "            Required for odeint \"\"\"\n",
    "        \n",
    "        x =xv[0]\n",
    "        vx =xv[1]\n",
    "        a = self.Fx(x, vx, t) / self.m\n",
    "        return np.ravel(np.array([v, a]))\n",
    "\n",
    "    def xresults(self):\n",
    "        \"\"\" \n",
    "        Print out results in a nice format\n",
    "        \"\"\"\n",
    "        \n",
    "        print('\\n\\t Position and Velocity at Final Time:')\n",
    "        print('Euler:')\n",
    "        print('t = {} x = {} vx = {}'.format(self.t, self.x , self.vx))\n",
    "        \n",
    "        if hasattr(self, 'xv'):\n",
    "            print('SciPy ODE Integrator:')\n",
    "            print('t = {} x = {} vx = {}'.format(self.tarray[-1], self.xv[-1, 0], self.xv[-1,1]))\n",
    "            \n",
    "    def yresults(self):\n",
    "        print('\\n\\t Position and Velocity at Final Time:')\n",
    "        print('Euler:')\n",
    "        print('t = {} y = {} vy = {}'.format(self.t, self.y , self.vy))\n",
    "        \n",
    "    def zresults(self):\n",
    "        print('\\n\\t Position and Velocity at Final Time:')\n",
    "        print('Euler:')\n",
    "        print('t = {} z = {} vz = {}'.format(self.t, self.z , self.vz))\n",
    "\n",
    "    def plot(self):\n",
    "        \"\"\" \n",
    "        Make nice plots of our results\n",
    "        \"\"\"\n",
    "\n",
    "        fig1 = plt.figure()\n",
    "        ax1 = fig1.add_subplot(111)\n",
    "        ay1 = fig1.add_subplot(111)\n",
    "        az1 = fig1.add_subplot(111)\n",
    "        \n",
    "        if hasattr(self,'xv'):\n",
    "            fig2 = plt.figure()\n",
    "            ax2 = fig2.add_subplot(111)\n",
    "            ax1.plot(self.tarray, self.xv[:, 0], \"k\", label = 'odeint')\n",
    "            ax2.plot(self.xv[:, 0], self.xv[:, 1], \"k\", label = 'odeint')\n",
    "            ax1.set_title('Trajectory')\n",
    "            ax1.set_xlabel(\"t\")\n",
    "            ax1.set_ylabel(\"x\")\n",
    "            ax2.set_title('Phase space')\n",
    "            ax2.set_xlabel(\"v\")\n",
    "            ax2.set_ylabel(\"x\")\n",
    "            ax1.legend()\n",
    "            ax2.legend()\n",
    "        if hasattr(self,'x_euler'):\n",
    "            ax1.plot(self.tarray, self.x_euler, \"b\", label = 'euler')\n",
    "            ax1.set_title('X Trajectory')\n",
    "            ax1.set_xlabel(\"t\")\n",
    "            ax1.set_ylabel(\"x\")\n",
    "            ax1.legend()\n",
    "        if hasattr(self,'x_RK4'):\n",
    "            ax1.plot(self.tarray, self.x_RK4, \"r\", label = 'RK4')\n",
    "            ax1.set_title('X Trajectory')\n",
    "            ax1.set_xlabel(\"t\")\n",
    "            ax1.set_ylabel(\"x\")\n",
    "            ax1.legend()\n",
    "        if hasattr(self, 'y_euler'):\n",
    "            ay1.plot(self.tarray, self.y_euler, \"b\", label = 'euler')\n",
    "            ay1.set_title('Y Trajectory')\n",
    "            ay1.set_xlabel(\"t\")\n",
    "            ay1.set_ylabel(\"y\")\n",
    "            ay1.legend()\n",
    "        if hasattr(self, 'z_euler'):\n",
    "            az1.plot(self.tarray, self.z_euler, \"b\", label = 'euler')\n",
    "            az1.set_title('Z Trajectory')\n",
    "            az1.set_xlabel(\"t\")\n",
    "            az1.set_ylabel(\"z\")\n",
    "            az1.legend()\n",
    "        if hasattr(self, 'y_RK4'):\n",
    "            ay1.plot(self.tarray, self.y_RK4, \"r\", label = 'RK4')\n",
    "            ay1.set_title('y Trajectory')\n",
    "            ay1.set_xlabel(\"t\")\n",
    "            ay1.set_ylabel(\"y\")\n",
    "            ay1.legend()\n",
    "        if hasattr(self, 'z_RK4'):\n",
    "            az1.plot(self.tarray, self.z_RK4, \"r\", label = 'RK4')\n",
    "            az1.set_title('Z Trajectory')\n",
    "            az1.set_xlabel(\"t\")\n",
    "            az1.set_ylabel(\"z\")\n",
    "            az1.legend()\n",
    "            "
   ]
  },
  {
   "cell_type": "code",
   "execution_count": 2,
   "metadata": {},
   "outputs": [],
   "source": [
    "#Problem 1\n",
    "class FallingParticle(Particle):\n",
    "    g = 9.8\n",
    "\n",
    "    def __init__(self,m = 1.0, x0 = 0, z0 = 0, y0 = 0 , vx0 = 0.0, vy0 = 0.0, vz0 = 0.0, tf = 10.0,  dt = 0.1):\n",
    "        self.m = m\n",
    "        super().__init__(x0,y0,z0,vx0,vy0,vz0,tf,dt) \n",
    "    \n",
    "    def Fx(self, x, vx, t):\n",
    "        return 0\n",
    "    def Fy(self, y, vy, t):\n",
    "        return 0\n",
    "    def Fz(self, z, vz, t):\n",
    "        return  -self.g*self.m"
   ]
  },
  {
   "cell_type": "code",
   "execution_count": 3,
   "metadata": {},
   "outputs": [
    {
     "name": "stdout",
     "output_type": "stream",
     "text": [
      "A new particle has been init'd\n",
      "\n",
      "\t Position and Velocity at Final Time:\n",
      "Euler:\n",
      "t = 0.10000000000000007 z = 39999.950999999994 vz = -0.9800000000000009\n"
     ]
    },
    {
     "name": "stderr",
     "output_type": "stream",
     "text": [
      "/opt/conda/lib/python3.6/site-packages/matplotlib/cbook/deprecation.py:107: MatplotlibDeprecationWarning: Adding an axes using the same arguments as a previous axes currently reuses the earlier instance.  In a future version, a new instance will always be created and returned.  Meanwhile, this warning can be suppressed, and the future behavior ensured, by passing a unique label to each axes instance.\n",
      "  warnings.warn(message, mplDeprecation, stacklevel=1)\n"
     ]
    },
    {
     "data": {
      "image/png": "[encoded data removed]",
      "text/plain": [
       "<Figure size 432x288 with 1 Axes>"
      ]
     },
     "metadata": {
      "needs_background": "light"
     },
     "output_type": "display_data"
    }
   ],
   "source": [
    "FallingMan = FallingParticle(x0 = 0.0, y0 = 0, z0 = 40000.0, tf = 15.0)\n",
    "FallingMan.zRK4_trajectory()\n",
    "FallingMan.zresults()\n",
    "FallingMan.plot()"
   ]
  },
  {
   "cell_type": "code",
   "execution_count": 302,
   "metadata": {},
   "outputs": [],
   "source": [
    "class DragParticleConstant(Particle): #Where a particle falls through an atmosphere of constant air density and simplified gravity\n",
    "    g = 9.8\n",
    "    def __init__(self, x0 = 0, y0 = 0, z0 = 0, vx0 = 0.0, vy0 = 0.0, vz0 = 0.0, tf = 10.0,  dt = 0.1):\n",
    "        super().__init__(x0, y0, z0, vx0, vy0, vz0,tf,dt)\n",
    "    def Fx(self, x, vx, t):\n",
    "        return 0\n",
    "    def Fy(self, y, vy, t):\n",
    "        A = 1.0\n",
    "        M = 5.972*10**24\n",
    "        Cd = 0.5\n",
    "        Rho0 = 1.225\n",
    "        ae = 6.5*(10**-3)\n",
    "        alpha = 2.5\n",
    "        T0 = 298\n",
    "        m = 1.0\n",
    "        return -0.5*Cd*Rho0*A*vy**2\n",
    "    def Fz(self, z, vz, t):\n",
    "        A = 1.0\n",
    "        M = 5.972*10**24\n",
    "        Cd = 0.5\n",
    "        Rho0 = 1.225\n",
    "        ae = 6.5*(10**-3)\n",
    "        alpha = 2.5\n",
    "        T0 = 298\n",
    "        m = 1.0\n",
    "        return -self.g*self.m + 0.5*Cd*Rho0*A*vz**2"
   ]
  },
  {
   "cell_type": "code",
   "execution_count": 312,
   "metadata": {},
   "outputs": [
    {
     "name": "stdout",
     "output_type": "stream",
     "text": [
      "A new particle has been init'd\n",
      "\n",
      "\t Position and Velocity at Final Time:\n",
      "Euler:\n",
      "t = 14.999999999999963 z = 39918.04575566479 vz = -5.656854249492379\n"
     ]
    },
    {
     "data": {
      "image/png": "[encoded data removed]",
      "text/plain": [
       "<Figure size 432x288 with 1 Axes>"
      ]
     },
     "metadata": {
      "needs_background": "light"
     },
     "output_type": "display_data"
    }
   ],
   "source": [
    "DraggingManC = DragParticleConstant(z0 = 40000, vz0 = 1.0, tf = 15.0)\n",
    "DraggingManC.zRK4_trajectory()\n",
    "DraggingManC.zresults()\n",
    "DraggingManC.plot()"
   ]
  },
  {
   "cell_type": "code",
   "execution_count": 268,
   "metadata": {},
   "outputs": [
    {
     "name": "stdout",
     "output_type": "stream",
     "text": [
      "A new particle has been init'd\n",
      "\n",
      "\t Position and Velocity at Final Time:\n",
      "Euler:\n",
      "t = 9.999999999999897 y = 30.27819737811223 vy = 0.3162055335968505\n"
     ]
    },
    {
     "data": {
      "image/png": "[encoded data removed]",
      "text/plain": [
       "<Figure size 432x288 with 1 Axes>"
      ]
     },
     "metadata": {
      "needs_background": "light"
     },
     "output_type": "display_data"
    }
   ],
   "source": [
    "DraggingManC = DragParticleConstant(y0=19, vy0 = 10, tf = 10.0, dt = 0.001)\n",
    "DraggingManC.yRK4_trajectory()\n",
    "DraggingManC.yresults()\n",
    "DraggingManC.plot()"
   ]
  },
  {
   "cell_type": "code",
   "execution_count": 253,
   "metadata": {},
   "outputs": [
    {
     "name": "stdout",
     "output_type": "stream",
     "text": [
      "A new particle has been init'd\n",
      "\n",
      "\t Position and Velocity at Final Time:\n",
      "Euler:\n",
      "t = 9.999999999999897 x = 0.0 vx = 0.0\n"
     ]
    },
    {
     "data": {
      "image/png": "[encoded data removed]",
      "text/plain": [
       "<Figure size 432x288 with 1 Axes>"
      ]
     },
     "metadata": {
      "needs_background": "light"
     },
     "output_type": "display_data"
    }
   ],
   "source": [
    "DraggingManC = DragParticleConstant()\n",
    "DraggingManC.xRK4_trajectory()\n",
    "DraggingManC.xresults()\n",
    "DraggingManC.plot()"
   ]
  },
  {
   "cell_type": "code",
   "execution_count": 316,
   "metadata": {},
   "outputs": [],
   "source": [
    "class DragParticleG(Particle): #Where a particle falls through an atmosphere of variable air density and simplified gravity\n",
    "    g = 9.8\n",
    "    def __init__(self, x0 = 0, y0 = 0, z0 = 0, vx0 = 0.0, vy0 = 0.0, vz0 = 0.0, tf = 10.0,  dt = 0.1):\n",
    "        super().__init__(x0,y0,z0,vx0, vy0,vz0,tf,dt)\n",
    "    def Fy(self, y, vy, t):\n",
    "        A = 1.0\n",
    "        M = 5.972*10**24\n",
    "        Cd = 0.5\n",
    "        Rho0 = 1.0\n",
    "        ae = 6.5*(10**-3)\n",
    "        alpha = 2.5\n",
    "        T0 = 298\n",
    "        m = 1.0\n",
    "        return 0.5*Cd*Rho0*((1-(ae*z/T0))**alpha)*A*vy**2\n",
    "    def Fz(self, z, vz, t):\n",
    "        A = 1.0\n",
    "        M = 5.972*10**24\n",
    "        Cd = 0.5\n",
    "        Rho0 = 1.0\n",
    "        ae = 6.5*(10**-3)\n",
    "        alpha = 2.5\n",
    "        T0 = 298\n",
    "        m = 1.0\n",
    "        return -self.g*self.m + 0.5*Cd*Rho0*((1-(ae*z/T0))**alpha)*A*vz**2\n",
    "    "
   ]
  },
  {
   "cell_type": "code",
   "execution_count": 317,
   "metadata": {},
   "outputs": [
    {
     "name": "stdout",
     "output_type": "stream",
     "text": [
      "A new particle has been init'd\n",
      "\n",
      "\t Position and Velocity at Final Time:\n",
      "Euler:\n",
      "t = 9.99999999999998 z = 39599.762520088756 vz = -66.15357158761336\n"
     ]
    },
    {
     "data": {
      "image/png": "[encoded data removed]",
      "text/plain": [
       "<Figure size 432x288 with 1 Axes>"
      ]
     },
     "metadata": {
      "needs_background": "light"
     },
     "output_type": "display_data"
    }
   ],
   "source": [
    "DraggingManG = DragParticleG(z0 = 40000, vz0 = 0.0, tf = 10.0)\n",
    "DraggingManG.zRK4_trajectory()\n",
    "DraggingManG.zresults()\n",
    "DraggingManG.plot()"
   ]
  },
  {
   "cell_type": "code",
   "execution_count": 319,
   "metadata": {},
   "outputs": [],
   "source": [
    "class DragParticle(Particle): #Where a particle falls through an atmosphere of constant air density and non-simplified gravity\n",
    "    A = 1.0\n",
    "    M = 5.972*10**24\n",
    "    def __init__(self, x0 = 0, y0 = 0, z0 = 0, vx0 = 0.0, vy0 = 0.0, vz0 = 0.0, tf = 10.0,  dt = 0.1):\n",
    "        super().__init__(x0, y0, z0, vx0, vy0, vz0, tf,dt) \n",
    "    def Fy(self, y, vy, t):\n",
    "        return 0.5*Cd*Rho0*A*vy**2\n",
    "    def Fz(self, z, vz, t):\n",
    "        A = 1.0\n",
    "        M = 5.972*10**24\n",
    "        Cd = 0.5\n",
    "        Rho0 = 1.0\n",
    "        ae = 6.5*(10**-3)\n",
    "        alpha = 2.5\n",
    "        T0 = 298\n",
    "        m = 1.0\n",
    "        return -6.67*(10**-11)*M*m/(z+(6371*10**3))**2 + 0.5*Cd*Rho0*A*vz**2\n",
    "    "
   ]
  },
  {
   "cell_type": "code",
   "execution_count": 320,
   "metadata": {},
   "outputs": [
    {
     "name": "stdout",
     "output_type": "stream",
     "text": [
      "A new particle has been init'd\n",
      "\n",
      "\t Position and Velocity at Final Time:\n",
      "Euler:\n",
      "t = 9.99999999999998 z = 79940.89585756538 vz = -6.187705202166292\n"
     ]
    },
    {
     "data": {
      "image/png": "[encoded data removed]",
      "text/plain": [
       "<Figure size 432x288 with 1 Axes>"
      ]
     },
     "metadata": {
      "needs_background": "light"
     },
     "output_type": "display_data"
    }
   ],
   "source": [
    "DraggingMan = DragParticle(z0 = 80000, vz0 = 0.0, tf = 10.0)\n",
    "DraggingMan.zRK4_trajectory()\n",
    "DraggingMan.zresults()\n",
    "DraggingMan.plot()"
   ]
  },
  {
   "cell_type": "code",
   "execution_count": 23,
   "metadata": {},
   "outputs": [],
   "source": [
    "#Problem 2\n",
    "from numpy import cross\n",
    "from numpy import array\n",
    "from math import pi, sqrt, e"
   ]
  },
  {
   "cell_type": "code",
   "execution_count": 325,
   "metadata": {},
   "outputs": [],
   "source": [
    "class SpinningBasketball(Particle):\n",
    "    g = 9.8\n",
    "    def __init__(self, x0 = 0.0, y0 = 0.0, z0 = 0.0, vx0 = 0.0, vy0 = 0.0, vz0 = 0.0, tf = 25.0,  dt = 0.1):\n",
    "        super().__init__(x0, y0, z0,vx0,vy0,vz0,tf,dt)\n",
    "    def Fx(self, x, vx, t):\n",
    "        return 0\n",
    "    def Fy(self, y, vy, t):\n",
    "        m = 0.62 #The mass of a basketball in kg\n",
    "        A = 0.045708296 #The cross sectional area of a basketball in m\n",
    "        crit = 10.0\n",
    "        X = (vy - crit)/4\n",
    "        CONSTA = 0.25\n",
    "        CONSTB = 0.25\n",
    "        CONSTC = 0.16\n",
    "        r = sqrt(A/pi)\n",
    "        w = 2*pi\n",
    "        Rho0 = 1.225\n",
    "        if vy == 0:\n",
    "            vely6 = vy**.6\n",
    "        else:\n",
    "            vely6 = 0\n",
    "        if X < 0.0:\n",
    "            Q = e**(-X**2)\n",
    "        elif X > 0.0:\n",
    "            Q = e**((-X**2)/4)\n",
    "        else:\n",
    "            Q = 1\n",
    "        Cd = CONSTA + CONSTB/(1 + e**X) + CONSTC*Q\n",
    "        return -0.5*Cd*Rho0*A*vy**2 + 0.25*Rho0*A*((r*w)**.4)*(vely6)*vy\n",
    "    def Fz(self, z, vz, t):\n",
    "        m = 0.62 #The mass of a basketball in kg\n",
    "        A = 0.045708296 #The cross sectional area of a basketball in m\n",
    "        crit = 10.0\n",
    "        X = (vz - crit)/4\n",
    "        CONSTA = 0.25\n",
    "        CONSTB = 0.25\n",
    "        CONSTC = 0.16\n",
    "        r = sqrt(A/pi)\n",
    "        w = 2*pi\n",
    "        Rho0 = 1.225\n",
    "        if vz == 0:\n",
    "            velz6 = vz**.6\n",
    "        else:\n",
    "            velz6 = 0\n",
    "        if X < 0.0:\n",
    "            Q = e**(-X**2)\n",
    "        elif X > 0.0:\n",
    "            Q = e**((-X**2)/4)\n",
    "        else:\n",
    "            Q = 1\n",
    "        Cd = CONSTA + CONSTB/(1 + e**X) + CONSTC*Q\n",
    "        return -self.g*self.m + 0.5*Cd*Rho0*A*vz**2 + 0.25*Rho0*A*((r*w)**.4)*(velz6)*vz\n",
    "\n",
    "        #I get an error when I have v raised to the power of 1.6 but not when raised to the 2. So I implemented \"vel16\" \n",
    "        #The angular velocity and the translational velocity of the basketball are perpendicular so \n",
    "        #the cross product can be simplified.\n",
    "    "
   ]
  },
  {
   "cell_type": "code",
   "execution_count": 326,
   "metadata": {},
   "outputs": [
    {
     "name": "stdout",
     "output_type": "stream",
     "text": [
      "A new particle has been init'd\n",
      "\n",
      "\t Position and Velocity at Final Time:\n",
      "Euler:\n",
      "t = 14.999999999997126 z = -13.402160117521944 vz = -26.458223545296093\n"
     ]
    },
    {
     "data": {
      "image/png": "[encoded data removed]",
      "text/plain": [
       "<Figure size 432x288 with 1 Axes>"
      ]
     },
     "metadata": {
      "needs_background": "light"
     },
     "output_type": "display_data"
    }
   ],
   "source": [
    "SpinningMan = SpinningBasketball(z0 = 300, vz0 = 10, tf = 15.0, dt = 0.001)\n",
    "SpinningMan.zRK4_trajectory()\n",
    "SpinningMan.zresults()\n",
    "SpinningMan.plot()"
   ]
  },
  {
   "cell_type": "code",
   "execution_count": 232,
   "metadata": {},
   "outputs": [
    {
     "name": "stdout",
     "output_type": "stream",
     "text": [
      "A new particle has been init'd\n",
      "\n",
      "\t Position and Velocity at Final Time:\n",
      "Euler:\n",
      "t = 14.999999999997126 y = 0.014998484180881016 v = 0.0009997979043996682\n"
     ]
    },
    {
     "data": {
      "image/png": "[encoded data removed]",
      "text/plain": [
       "<Figure size 432x288 with 1 Axes>"
      ]
     },
     "metadata": {
      "needs_background": "light"
     },
     "output_type": "display_data"
    }
   ],
   "source": [
    "SpinningMan = SpinningBasketball(y0 = 0, v0 = .001, tf = 15.0, dt = 0.001)\n",
    "SpinningMan.yRK4_trajectory()\n",
    "SpinningMan.yresults()\n",
    "SpinningMan.plot()"
   ]
  },
  {
   "cell_type": "code",
   "execution_count": null,
   "metadata": {},
   "outputs": [],
   "source": [
    "class SideSpinBasketball(Particle):\n",
    "    g = 9.8\n",
    "    def __init__(self, x0 = 1.0, v0 = 0.0, tf = 10.0,  dt = 0.1):\n",
    "        super().__init__(x0,v0,tf,dt)\n",
    "    def F(self, x, v, t):\n",
    "        m = 0.62 #The mass of a basketball in kg\n",
    "        A = 0.045708296 #The cross sectional area of a basketball in m\n",
    "        crit = 10.0\n",
    "        X = (v - crit)/4\n",
    "        CONSTA = 0.25\n",
    "        CONSTB = 0.25\n",
    "        CONSTC = 0.16\n",
    "        r = sqrt(A/pi)\n",
    "        w = pi/2\n",
    "        Rho0 = 1.225\n",
    "        if v == 0:\n",
    "            vel16 = v**1.6\n",
    "        else:\n",
    "            vel16 = 0\n",
    "        if X < 0.0:\n",
    "            Q = e**(-X**2)\n",
    "        elif X > 0.0:\n",
    "            Q = e**((-X**2)/4)\n",
    "        else:\n",
    "            Q = 1\n",
    "        Cd = CONSTA + CONSTB/(1 + e**X) + CONSTC*Q\n",
    "        return -self.g*self.m + 0.5*Cd*Rho0*A*v**2 + 0.25*Rho0*A*((r*w)**.4)*(vel16)\n",
    "    #I might need to make the force a vector? Probably not... What if I just keep the vertical force the same, \n",
    "    #use that to calculate the time it hits the ground, and then calculate the horizontal displacement with an additional\n",
    "    #Magnus force because it mathematically shouldn't affect vertical displacement? I think that works."
   ]
  },
  {
   "cell_type": "code",
   "execution_count": 45,
   "metadata": {},
   "outputs": [
    {
     "name": "stderr",
     "output_type": "stream",
     "text": [
      "ERROR:root:File `'Python.py'` not found.\n"
     ]
    }
   ],
   "source": []
  },
  {
   "cell_type": "code",
   "execution_count": null,
   "metadata": {},
   "outputs": [],
   "source": [
    "#Problem 3\n"
   ]
  },
  {
   "cell_type": "code",
   "execution_count": null,
   "metadata": {},
   "outputs": [],
   "source": [
    "class ChargedParticle(Particle):\n",
    "    def __init__(self,m = 1.0, x0 = 1.0 , v0 = 0.0, tf = 10.0,  dt = 0.1):\n",
    "        self.m = m\n",
    "        super().__init__(x0,v0,tf,dt)"
   ]
  },
  {
   "cell_type": "code",
   "execution_count": null,
   "metadata": {},
   "outputs": [],
   "source": [
    "ChargedMan = ChargedParticle(vx0 = .4, tf = 15.0, dt = 0.001)"
   ]
  },
  {
   "cell_type": "code",
   "execution_count": 17,
   "metadata": {},
   "outputs": [
    {
     "name": "stdout",
     "output_type": "stream",
     "text": [
      "(array([0, 1, 2, 3, 4]),)\n"
     ]
    }
   ],
   "source": [
    "import numpy as np\n",
    "a = np.array([1,2,3.3,3.4,3.5,5])\n",
    "b = np.where(a <= 4)\n",
    "print(b)"
   ]
  },
  {
   "cell_type": "code",
   "execution_count": 20,
   "metadata": {},
   "outputs": [
    {
     "name": "stdout",
     "output_type": "stream",
     "text": [
      "[0 1 2 3 4]\n"
     ]
    }
   ],
   "source": [
    "c = max(b)\n",
    "print(c)"
   ]
  },
  {
   "cell_type": "code",
   "execution_count": 19,
   "metadata": {},
   "outputs": [
    {
     "name": "stdout",
     "output_type": "stream",
     "text": [
      "4\n"
     ]
    }
   ],
   "source": [
    "d = max(c)\n",
    "print(d)"
   ]
  },
  {
   "cell_type": "code",
   "execution_count": 1,
   "metadata": {},
   "outputs": [],
   "source": [
    "from scipy.integrate import odeint\n",
    "import matplotlib.pyplot as plt # for plotting          \n",
    "import numpy as np\n",
    "from copy import copy\n",
    "from pylab import xlim, ylim\n",
    "from math import sqrt\n",
    "\n",
    "class Particle(object):\n",
    "\n",
    "    \"\"\"Class that describes particle\"\"\"\n",
    "    m = 1.0\n",
    "\n",
    "    def __init__(self, KE, mz0 = 0.0, Bx0 = 0, By0 = 0, Bz0 = 0, x0 = 0.0, y0 = 0.0, z0 = 0.0, vx0 = 0.0, vy0 = 0.0, vz0 = 0.0, Omex0 = 0.0, Omey0 = 0.0, Omez0 = 0.0, tf = 10.0, dt = 0.001):\n",
    "        self.mz = mz0\n",
    "        self.Bx = Bx0\n",
    "        self.By = By0\n",
    "        self.Bz = Bz0\n",
    "        self.Barray = [self.Bx,self.By,self.Bz]\n",
    "        self.B = np.array(self.Barray,float)\n",
    "        self.x = x0\n",
    "        self.y = y0\n",
    "        self.z = z0\n",
    "        self.parray = [self.x,self.y,self.z]\n",
    "        self.p = np.array(self.parray, float)\n",
    "        self.vx = vx0\n",
    "        self.vy = vy0\n",
    "        self.vz = vz0\n",
    "        self.varray = [self.vx,self.vy,self.vz]\n",
    "        self.v = np.array(self.varray,float)\n",
    "        self.Omex = Omex0\n",
    "        self.Omey = Omey0\n",
    "        self.Omez = Omez0\n",
    "        self.Omearray = [self.Omex, self.Omey, self.Omez]\n",
    "        self.Omega = np.array(self.Omearray,float)\n",
    "        self.t = 0.0\n",
    "        self.tf = tf\n",
    "        self.dt = dt\n",
    "\n",
    "        self.tlabel = 'time (s)'\n",
    "        self.plabel = 'p (m)'\n",
    "        self.vlabel = 'v (m/s)'\n",
    "\n",
    "        npoints = int(tf/dt) # always starting at t = 0.0\n",
    "        self.npoints = npoints\n",
    "        self.tarray = np.linspace(0.0, tf,npoints, endpoint = True) # include final timepoint\n",
    "        self.xv0 = np.array([self.p, self.v]) # NumPy array with initial position and velocity\n",
    "\n",
    "        print(\"A new particle has been init'd\")\n",
    "\n",
    "    def F(self, p, v, t):\n",
    "        # The force on a free particle is 0\n",
    "        self.farray = np.array([0.0, 0.0, 0.0])\n",
    "        return np.array(self.farray,float)\n",
    "\n",
    "    def Euler_step(self): \n",
    "        \"\"\"\n",
    "        Take a single time step using Euler method\n",
    "        \"\"\"\n",
    "        \n",
    "        a = self.F(self.p, self.v, self.t) / self.m\n",
    "        self.p += self.v * self.dt\n",
    "        self.v += a * self.dt\n",
    "        self.t += self.dt\n",
    "        \n",
    "\n",
    "    def RK4_step(self):\n",
    "        \"\"\"\n",
    "        Take a single time step using RK4 midpoint method\n",
    "        \"\"\"\n",
    "        a1 = self.F(self.p, self.v, self.t) / self.m\n",
    "        k1 = np.array([self.v, a1])*self.dt\n",
    "\n",
    "        a2 = self.F(self.p+k1[0]/2, self.v+k1[1]/2, self.t+self.dt/2) / self.m\n",
    "        k2 = np.array([self.v+k1[1]/2 ,a2])*self.dt\n",
    "        \n",
    "        a3 = self.F(self.p+k2[0]/2, self.v+k2[1]/2, self.t+self.dt/2) / self.m\n",
    "        k3 = np.array([self.v+k2[1]/2, a3])*self.dt\n",
    "        \n",
    "        a4 = self.F(self.p+k3[0], self.v+k3[1], self.t+self.dt) / self.m\n",
    "        k4 = np.array([self.v+k3[1], a4])*self.dt\n",
    "\n",
    "        self.p += (k1[0]+ k4[0])/6 + (k2[0] + k3[0])/3\n",
    "        self.v += (k1[1]+ k4[1])/6 + (k2[1] + k3[1])/3\n",
    "        \n",
    " \n",
    "        self.t += self.dt\n",
    "\n",
    "    def Euler_trajectory(self):  \n",
    "        \"\"\"\n",
    "        Loop over all time steps to construct a trajectory with Euler method\n",
    "        Will reinitialize euler trajectory everytime this method is called\n",
    "        \"\"\"\n",
    "        \n",
    "        px_euler = []\n",
    "        vx_euler = []\n",
    "        py_euler = []\n",
    "        vy_euler = []\n",
    "        pz_euler = []\n",
    "        vz_euler = []\n",
    "        \n",
    "        while(self.t < self.tf-self.dt/2):\n",
    "            vx_euler.append(self.v[0])\n",
    "            px_euler.append(self.p[0])\n",
    "            vy_euler.append(self.v[1])\n",
    "            py_euler.append(self.p[1])\n",
    "            vz_euler.append(self.v[2])\n",
    "            pz_euler.append(self.p[2])\n",
    "            self.Euler_step()\n",
    "        \n",
    "        self.px_euler = np.array(px_euler)\n",
    "        self.vx_euler = np.array(vx_euler)\n",
    "        self.py_euler = np.array(py_euler)\n",
    "        self.vy_euler = np.array(vy_euler)\n",
    "        self.pz_euler = np.array(pz_euler)\n",
    "        self.vz_euler = np.array(vz_euler)\n",
    "    \n",
    "    def RK4_trajectory(self): \n",
    "        \"\"\"\n",
    "        Loop over all time steps to construct a trajectory with RK4 method\n",
    "        Will reinitialize euler trajectory everytime this method is called\n",
    "        \"\"\"\n",
    "        \n",
    "        px_RK4 = []\n",
    "        vx_RK4 = []\n",
    "        py_RK4 = []\n",
    "        vy_RK4 = []\n",
    "        pz_RK4 = []\n",
    "        vz_RK4 = []\n",
    "        \n",
    "        while(self.t < self.tf - self.dt/2):\n",
    "            px_RK4.append(self.p[0])\n",
    "            vx_RK4.append(self.v[0])\n",
    "            py_RK4.append(self.p[1])\n",
    "            vy_RK4.append(self.v[1])\n",
    "            pz_RK4.append(self.p[2])\n",
    "            vz_RK4.append(self.v[2])\n",
    "            self.RK4_step()\n",
    "\n",
    "        self.px_RK4 = np.array(px_RK4)\n",
    "        self.vx_RK4 = np.array(vx_RK4)\n",
    "        self.py_RK4 = np.array(py_RK4)\n",
    "        self.vy_RK4 = np.array(vy_RK4)\n",
    "        self.pz_RK4 = np.array(pz_RK4)\n",
    "        self.vz_RK4 = np.array(vz_RK4)\n",
    "        \n",
    "\n",
    "    def scipy_trajectory(self):\n",
    "        \"\"\"calculate trajectory using SciPy ode integrator\"\"\"\n",
    "        \n",
    "        self.xv = odeint(self.derivative, self.xv0, self.tarray)\n",
    "\n",
    "    def derivative(self, xv, t):\n",
    "        \"\"\"right hand side of the differential equation\n",
    "            Required for odeint \"\"\"\n",
    "        \n",
    "        p =xv[0]\n",
    "        v =xv[1]\n",
    "        a = self.F(p, v, t) / self.m\n",
    "        return np.ravel(np.array([v, a]))\n",
    "\n",
    "    def results(self):\n",
    "        \"\"\" \n",
    "        Print out results in a nice format\n",
    "        \"\"\"\n",
    "        \n",
    "        print('\\n\\t Position and Velocity at Final Time:')\n",
    "        print('Euler:')\n",
    "        print('t = {} p = {} v = {}'.format(self.t, self.p , self.v))\n",
    "        \n",
    "        if hasattr(self, 'xv'):\n",
    "            print('SciPy ODE Integrator:')\n",
    "            print('t = {} p = {} v = {}'.format(self.tarray[-1], self.xv[-1, 0], self.xv[-1,1]))\n",
    "            \n",
    "    def chargedresults(self):\n",
    "        print('\\n\\t Position and Velocity at Final Time:')\n",
    "        print('t = {} p = {} v = {}'.format(self.t, self.p , self.v))\n",
    "\n",
    "    def plot(self):\n",
    "        \"\"\" \n",
    "        Make nice plots of our results\n",
    "        \"\"\"\n",
    "\n",
    "        fig1 = plt.figure()\n",
    "        fig2 = plt.figure()\n",
    "        fig3 = plt.figure()\n",
    "        ax1 = fig1.add_subplot(111)\n",
    "        ax2 = fig2.add_subplot(111)\n",
    "        ax3 = fig3.add_subplot(111)\n",
    "        \n",
    "        \n",
    "        if hasattr(self,'xv'):\n",
    "            ax1.plot(self.tarray, self.xv[:, 0], \"k\", label = 'odeint')\n",
    "        if hasattr(self,'px_euler'):\n",
    "            ax1.plot(self.tarray, self.px_euler, \"b\", label = 'euler')\n",
    "            ax2.plot(self.tarray, self.py_euler, \"b\", label = 'euler')\n",
    "            ax3.plot(self.tarray, self.pz_euler, \"b\", label = 'euler')\n",
    "        if hasattr(self,'px_RK4'):\n",
    "            ax1.plot(self.tarray, self.px_RK4, \"r\", label = 'RK4')\n",
    "            ax2.plot(self.tarray, self.py_RK4, \"r\", label = 'RK4')\n",
    "            ax3.plot(self.tarray, self.pz_RK4, \"r\", label = 'RK4')\n",
    "            \n",
    "        ax1.set_title('X Direction vs Time')\n",
    "        ax1.set_xlabel(\"t (s)\")\n",
    "        ax1.set_ylabel(\"x (m)\")\n",
    "        ax2.set_title('Y Direction vs Time')\n",
    "        ax2.set_xlabel(\"t (s)\")\n",
    "        ax2.set_ylabel(\"y (m)\")\n",
    "        ax3.set_title('Z Direction vs Time')\n",
    "        ax3.set_xlabel(\"t (s)\")\n",
    "        ax3.set_ylabel(\"z (m)\")\n",
    "\n",
    "        ax1.legend()\n",
    "        ax2.legend()\n",
    "        ax3.legend()\n",
    "        \n",
    "    def trajplotcharged(self):\n",
    "        fig1 = plt.figure()\n",
    "        ax1 = fig1.add_subplot(111)\n",
    "       \n",
    "        \n",
    "        if hasattr(self,'xv'):\n",
    "            ax1.plot(-self.tarray, self.xv[:, 0], \"k\", label = 'odeint')\n",
    "        if hasattr(self,'px_euler'):\n",
    "            ax1.plot(-self.px_euler, self.py_euler, \"b\", label = 'euler')\n",
    "        if hasattr(self,'px_RK4'):\n",
    "            ax1.plot(-self.px_RK4, self.py_RK4, \"r\", label = 'RK4')\n",
    "        xlim(0.0,0.55)\n",
    "        ylim(0.0,0.50)\n",
    "        ax1.set_title('Particle Trajectory')\n",
    "        ax1.set_xlabel(\"x (m)\")\n",
    "        ax1.set_ylabel(\"y (m)\")\n",
    "        \n",
    "        ax1.legend()\n",
    "        \n",
    "    def trajplot(self):\n",
    "        fig1 = plt.figure()\n",
    "        fig2 = plt.figure()\n",
    "        fig3 = plt.figure()\n",
    "        ax1 = fig1.add_subplot(111)\n",
    "        ax2 = fig2.add_subplot(111)\n",
    "        ax3 = fig3.add_subplot(111)\n",
    "\n",
    "        \n",
    "        if hasattr(self,'xv'):\n",
    "            ax1.plot(self.tarray, self.xv[:, 0], \"k\", label = 'odeint')\n",
    "        if hasattr(self,'px_euler'):\n",
    "            ax1.plot(self.px_euler, self.py_euler, \"b\", label = 'euler')\n",
    "            ax2.plot(self.py_euler, self.pz_euler, \"b\", label = 'euler')\n",
    "            ax3.plot(self.pz_euler, self.px_euler, \"b\", label = 'euler')\n",
    "        if hasattr(self,'px_RK4'):\n",
    "            ax1.plot(self.px_RK4, self.py_RK4, \"r\", label = 'RK4')\n",
    "            ax2.plot(self.py_RK4, self.pz_RK4, \"r\", label = 'RK4')\n",
    "            ax3.plot(self.pz_RK4, self.px_RK4, \"r\", label = 'RK4')\n",
    "        \n",
    "        ax1.set_title('XY Trajectory')\n",
    "        ax2.set_title('YZ Trajectory')\n",
    "        ax3.set_title('XZ Trajectory')\n",
    "        ax1.set_xlabel(\"x (m)\")\n",
    "        ax1.set_ylabel(\"y (m)\")\n",
    "        ax2.set_xlabel(\"y (m)\")\n",
    "        ax2.set_ylabel(\"z (m)\")\n",
    "        ax3.set_xlabel(\"z (m)\")\n",
    "        ax3.set_ylabel(\"x (m)\")\n",
    "        \n",
    "        ax1.legend()\n",
    "        ax2.legend()\n",
    "        ax3.legend()\n",
    "    "
   ]
  },
  {
   "cell_type": "code",
   "execution_count": 4,
   "metadata": {},
   "outputs": [],
   "source": [
    "from math import pi, e"
   ]
  },
  {
   "cell_type": "code",
   "execution_count": 11,
   "metadata": {},
   "outputs": [],
   "source": [
    "class SpinningBasketball(Particle):\n",
    "    g = 9.8\n",
    "    def __init__(self, x0 = 0, z0 = 0, y0 = 0 , vx0 = 0.0, vy0 = 0.0, vz0 = 0.0, Omex0 = 0.0, Omey0 = 0.0, Omez0 = 0.0, tf = 10.0,  dt = 0.1):\n",
    "        super().__init__(x0,y0,z0,vx0,vy0,vz0,Omex0,Omey0,Omez0,tf,dt)\n",
    "    def F(self, p, v, t):\n",
    "        m = 0.62 #The mass of a basketball in kg\n",
    "        A = 0.045708296 #The cross sectional area of a basketball in m\n",
    "        crit = 10.0\n",
    "        spin = sqrt(self.Omex**2 + self.Omey**2 * self.Omez**2)\n",
    "        s = sqrt(self.vx**2 + self.vy**2 + self.vz**2)\n",
    "        X = (s - crit)/4\n",
    "        CONSTA = 0.25\n",
    "        CONSTB = 0.25\n",
    "        CONSTC = 0.16\n",
    "        r = sqrt(A/pi)\n",
    "        Rho0 = 1.225\n",
    "        if X < 0.0:\n",
    "            Q = e**(-X**2)\n",
    "        elif X > 0.0:\n",
    "            Q = e**((-X**2)/4)\n",
    "        else:\n",
    "            Q = 1\n",
    "        Cd = CONSTA + CONSTB/(1 + e**X) + CONSTC*Q\n",
    "        cross = np.cross(self.Omega,self.v)\n",
    "        if spin == 0:\n",
    "            SPINFORCEX = 0\n",
    "            SPINFORCEY = 0\n",
    "            SPINFORCEZ = 0 \n",
    "        else: \n",
    "            SPINFORCEX = 0.25*Rho0*A*r*cross[0]*(s**.4)/(spin**.4 * r**.4)\n",
    "            SPINFORCEY = 0.25*Rho0*A*r*cross[1]*(s**.4)/(spin**.4 * r**.4)\n",
    "            SPINFORCEZ = 0.25*Rho0*A*r*cross[2]*(s**.4)/(spin**.4 * r**.4)\n",
    "        return np.array([-0.5*Cd*Rho0*A*self.v[0]*s + SPINFORCEX, \n",
    "                         -0.5*Cd*Rho0*A*self.v[1]*s + SPINFORCEY,\n",
    "                         -self.g*self.m + 0.5*Cd*Rho0*A*self.v[2]**2 + SPINFORCEZ])\n",
    "    \n"
   ]
  },
  {
   "cell_type": "code",
   "execution_count": 18,
   "metadata": {},
   "outputs": [
    {
     "name": "stdout",
     "output_type": "stream",
     "text": [
      "A new particle has been init'd\n"
     ]
    },
    {
     "name": "stderr",
     "output_type": "stream",
     "text": [
      "/opt/conda/lib/python3.6/site-packages/ipykernel_launcher.py:35: RuntimeWarning: overflow encountered in double_scalars\n"
     ]
    },
    {
     "name": "stdout",
     "output_type": "stream",
     "text": [
      "\n",
      "\t Position and Velocity at Final Time:\n",
      "Euler:\n",
      "t = 9.999999999999897 p = [ 30.75867253  48.95394776         -inf] v = [ 1.20583403  1.91914447        -inf]\n"
     ]
    },
    {
     "data": {
      "image/png": "[encoded data removed]",
      "text/plain": [
       "<Figure size 432x288 with 1 Axes>"
      ]
     },
     "metadata": {
      "needs_background": "light"
     },
     "output_type": "display_data"
    },
    {
     "data": {
      "image/png": "[encoded data removed]",
      "text/plain": [
       "<Figure size 432x288 with 1 Axes>"
      ]
     },
     "metadata": {
      "needs_background": "light"
     },
     "output_type": "display_data"
    },
    {
     "data": {
      "image/png": "[encoded data removed]",
      "text/plain": [
       "<Figure size 432x288 with 1 Axes>"
      ]
     },
     "metadata": {
      "needs_background": "light"
     },
     "output_type": "display_data"
    }
   ],
   "source": [
    "SpinningSideMan = SpinningBasketball(Omez0 = 2*pi, z0 = 0, vy0 = 1, tf = 10.0, dt = 0.01)\n",
    "SpinningSideMan.RK4_trajectory()\n",
    "SpinningSideMan.results()\n",
    "SpinningSideMan.trajplot()"
   ]
  },
  {
   "cell_type": "code",
   "execution_count": null,
   "metadata": {},
   "outputs": [],
   "source": []
  }
 ],
 "metadata": {
  "kernelspec": {
   "display_name": "Python 3",
   "language": "python",
   "name": "python3"
  },
  "language_info": {
   "codemirror_mode": {
    "name": "ipython",
    "version": 3
   },
   "file_extension": ".py",
   "mimetype": "text/x-python",
   "name": "python",
   "nbconvert_exporter": "python",
   "pygments_lexer": "ipython3",
   "version": "3.6.7"
  }
 },
 "nbformat": 4,
 "nbformat_minor": 2
}
