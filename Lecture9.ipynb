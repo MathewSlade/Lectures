{
 "cells": [
  {
   "cell_type": "markdown",
   "metadata": {},
   "source": [
    "# Lecture 9: Shooting, Matching and finite difference\n",
    "\n",
    "**Overview:**\n",
    "* Time independent Schrödinger eqn.\n",
    "* Numerov's method.\n",
    "* Finite difference formula (discrete Laplacian).\n",
    "* Displacement eqn.\n",
    "\n",
    "**Next Lecture:**\n",
    "* Boundary value problems, Laplace and Poisson equations.\n",
    "---"
   ]
  },
  {
   "cell_type": "markdown",
   "metadata": {},
   "source": [
    "## Tasks\n",
    "### Shooting:\n",
    "- How does the number of bound states in the square well change when you change the depth of the well? What about changing the width of the well? Do your finding agree with your expectations?\n",
    "\n",
    "- Is it possible a minimum well depth above which there is no bound-state?\n",
    "\n",
    "### Finite Difference\n",
    "- Modify the code to include a simple harmonic potential i.e $V= 1/2 kx^2$.\n",
    "- Compare the accuracy of the matching and finite difference methods for a simple harmonic potential. Which method do you expect to be more accurate?  How do your results compare with the exact eigen energies ?\n",
    "- Try defining some other interesting potentials e.g. double square well."
   ]
  },
  {
   "cell_type": "code",
   "execution_count": 2,
   "metadata": {},
   "outputs": [],
   "source": [
    "%matplotlib inline\n",
    "import numpy as np\n",
    "from scipy.integrate import odeint\n",
    "import rootfinder as rtf\n",
    "import matplotlib.pyplot as plt\n",
    "from scipy.linalg import eigh\n",
    "from scipy.constants import hbar, m_e, e"
   ]
  },
  {
   "cell_type": "code",
   "execution_count": 27,
   "metadata": {},
   "outputs": [],
   "source": [
    "class QM(object):\n",
    "    def __init__(self,E, npoints, x_start, x_end = 0, u0 = 0.0, v0 = 0.01):\n",
    "        self.E = E\n",
    "        self.npoints = npoints\n",
    "        self.uv0 = np.array([u0, v0]) # NumPy array with initial position and velocity\n",
    "       \n",
    "        # always want to start at furthest point and go to zero\n",
    "        self.xarray = np.linspace(x_start, x_end, npoints, endpoint = True) # include final timepoint\n",
    "\n",
    "    def scipy_trajectory(self):\n",
    "        \"\"\"calculate trajectory using SciPy ode integrator\"\"\"\n",
    "        self.uv = odeint(self.sch, self.uv0, self.xarray)\n",
    "        self.uv_end = self.uv[-1]\n",
    "\n",
    "\n",
    "    def sch(self, uv, x):\n",
    "    \n",
    "        \"\"\"right hand side of the differential equation\"\"\"\n",
    "        u = uv[1]\n",
    "        v = 2*(self.Potential(x) - self.E)*uv[0]\n",
    "        #v = \n",
    "        return np.ravel(np.array([u, v]))\n",
    "\n",
    "    def Potential(self, x):\n",
    "        # finite square well potential\n",
    "        a = 5 # width of well\n",
    "        V0 = 10 # depth of well\n",
    "        if (abs(x) > a/2.):\n",
    "            return 0\n",
    "        else :\n",
    "            #return -V0*x**2\n",
    "            return -V0"
   ]
  },
  {
   "cell_type": "code",
   "execution_count": 28,
   "metadata": {},
   "outputs": [],
   "source": [
    "# the matching function\n",
    "def match(En):\n",
    "    #a = 1.0e-11\n",
    "    p_up = QM(E = En, npoints = 1000, x_start = -10)\n",
    "    p_down = QM(E = En, npoints = 1000, x_start = 10)\n",
    "    p_up.scipy_trajectory()\n",
    "    p_down.scipy_trajectory()\n",
    "\n",
    "    return p_down.uv_end[0]*p_up.uv_end[1] - p_down.uv_end[1]*p_up.uv_end[0]"
   ]
  },
  {
   "cell_type": "code",
   "execution_count": 29,
   "metadata": {},
   "outputs": [
    {
     "name": "stderr",
     "output_type": "stream",
     "text": [
      "No handles with labels found to put in legend.\n"
     ]
    },
    {
     "name": "stdout",
     "output_type": "stream",
     "text": [
      "[-9.80260791 -8.22347121]\n"
     ]
    },
    {
     "data": {
      "image/png": "[encoded data removed]",
      "text/plain": [
       "<Figure size 432x288 with 1 Axes>"
      ]
     },
     "metadata": {
      "needs_background": "light"
     },
     "output_type": "display_data"
    }
   ],
   "source": [
    "a = 1.0e-3\n",
    "E1 =  -10 # start Energy search at the well depth\n",
    "dE = 0.01\n",
    "npoints = 1000\n",
    "\n",
    "\n",
    "E_SM = []\n",
    "\n",
    "fig = plt.figure()\n",
    "ax = fig.add_subplot(111)\n",
    "\n",
    "# Bound states must have E < 0 for the square well. \n",
    "# Cut off after we have found a few states\n",
    "while (E1 < -8-dE):\n",
    "\n",
    "    if match(E1)*match(E1 + dE) < 0 :  # bracket E\n",
    "        # find the energy\n",
    "        E = rtf.bisect(match, E1, E1+dE, 1e-12)\n",
    "        print('Energy found: %.5f'%(E))\n",
    "        E_SM.append(E)\n",
    "        \n",
    "        dx = 16*a/npoints\n",
    "        # for plotting, must ensure overlap of left and right solutions \n",
    "        p_up = QM(E, npoints = npoints+4, x_start = -10, x_end = 0+4*dx)\n",
    "        p_down = QM(E, npoints = npoints-4, x_start = 10, x_end = 0+4*dx)\n",
    "        \n",
    "        p_up.scipy_trajectory()\n",
    "        p_down.scipy_trajectory()\n",
    "        \n",
    "        # scale factor\n",
    "        scale = p_up.uv_end[0]/p_down.uv_end[0]\n",
    "        \n",
    "        # full solution, combine up and down solutions\n",
    "        psi_x = np.concatenate((p_up.uv[:-1,0], scale*p_down.uv[::-1,0]))\n",
    "        xa = np.linspace(-10,10, 2*npoints-1, endpoint = True)\n",
    "        \n",
    "        # plot the scaled solution (not normalized), scale maximum to 1 for plotting purposes\n",
    "        ax.plot(xa, psi_x/max(psi_x), lw = 2, label = \"E = {:.3f}\".format(E))\n",
    "    #else : \n",
    "    #    print(\"No bracket, increasing energy to\", E1+dE)\n",
    "    E1 += dE\n",
    "\n",
    "# Solution is exact only for for wide and deep well, and odd n \n",
    "a = 5\n",
    "V0 = 10\n",
    "n = np.arange(1,5,2)\n",
    "Exact = -V0+np.pi**2/2/a**2*n**2\n",
    "print(Exact)\n",
    "\n",
    "# plot the potential\n",
    "ax.plot(xa, np.vectorize(p_up.Potential)(xa)/10., color = 'k', lw =2)\n",
    "ax.set_xlim([-8, 8])\n",
    "ax.set_xlabel('x', fontsize = 14)\n",
    "ax.set_ylabel('$\\psi$ (unnormalized)', fontsize = 14)\n",
    "ax.legend(loc = 4, fontsize =10,numpoints = 1 )\n",
    "plt.show()"
   ]
  },
  {
   "cell_type": "markdown",
   "metadata": {},
   "source": [
    "## Finite difference"
   ]
  },
  {
   "cell_type": "code",
   "execution_count": 21,
   "metadata": {},
   "outputs": [],
   "source": [
    "def potential(x):\n",
    "    \"\"\" The potential energy for a finite square well\"\"\"\n",
    "    a = 5\n",
    "    V0 = 10\n",
    "    V = np.zeros(x.shape)\n",
    "    V[np.nonzero(np.abs(x)<a/2)] = -V0   \n",
    "    return V    "
   ]
  },
  {
   "cell_type": "code",
   "execution_count": 12,
   "metadata": {},
   "outputs": [
    {
     "name": "stdout",
     "output_type": "stream",
     "text": [
      "\n",
      "Lattice Laplacian operator\n",
      "[[-2  1  0 ...,  0  0  0]\n",
      " [ 1 -2  1 ...,  0  0  0]\n",
      " [ 0  1 -2 ...,  0  0  0]\n",
      " ..., \n",
      " [ 0  0  0 ..., -2  1  0]\n",
      " [ 0  0  0 ...,  1 -2  1]\n",
      " [ 0  0  0 ...,  0  1 -2]]\n",
      "\n",
      "Matrix elements of Hamiltionian = \n",
      "[[ 400. -200.    0. ...,    0.    0.    0.]\n",
      " [-200.  400. -200. ...,    0.    0.    0.]\n",
      " [   0. -200.  400. ...,    0.    0.    0.]\n",
      " ..., \n",
      " [   0.    0.    0. ...,  400. -200.    0.]\n",
      " [   0.    0.    0. ..., -200.  400. -200.]\n",
      " [   0.    0.    0. ...,    0. -200.  400.]]\n"
     ]
    }
   ],
   "source": [
    "N = 2000  # number of lattice points including boundaries at 0, N-1\n",
    "L = 100.0 \n",
    "dx = L / N # x runs from -L/2 + dx/2 to L/2 + dx/2\n",
    "\n",
    "# D = array(zeros((N, N))) # discrete laplacian operator\n",
    "D = np.diag([-2]*(N))\n",
    "D+= np.diag([1]*(N-1),1) + np.diag([1]*(N-1),-1) \n",
    "print(\"\\nLattice Laplacian operator\")\n",
    "print(D)\n",
    "        \n",
    "x = np.linspace(0.5*(dx-L), 0.5*(L-dx), N)        \n",
    "V = np.diag(potential(x)) # potential (the potential is a diagonal matrix because it's a one dimensional problem; see below\n",
    "    \n",
    "H = -0.5 * pow(dx, -2.0) * D + V # Hamiltonian.  Here m = hbar = 1\n",
    "        \n",
    "print(\"\\nMatrix elements of Hamiltionian = \")\n",
    "print(H)"
   ]
  },
  {
   "cell_type": "code",
   "execution_count": 13,
   "metadata": {},
   "outputs": [
    {
     "name": "stdout",
     "output_type": "stream",
     "text": [
      "\n",
      "Ground state energy =  -9.83394417552\n",
      "Energies of low-lying excited states =  -9.33682278061 -8.51197272935 -7.36573971732 -5.90924244412\n"
     ]
    }
   ],
   "source": [
    "E_FD, v = eigh(H) # diagonalize Hamiltonian\n",
    "\n",
    "# eigh returns the array of shape (N,N) where each column is an eigenvector; \n",
    "# we transpose for plotting later\n",
    "\n",
    "v = v.transpose() \n",
    "print(\"\\nGround state energy = \", E_FD[0])\n",
    "print(\"Energies of low-lying excited states = \", E_FD[1], E_FD[2], E_FD[3], E_FD[4])"
   ]
  },
  {
   "cell_type": "code",
   "execution_count": 14,
   "metadata": {},
   "outputs": [
    {
     "data": {
      "text/plain": [
       "<matplotlib.legend.Legend at 0x7fbbceec0588>"
      ]
     },
     "execution_count": 14,
     "metadata": {},
     "output_type": "execute_result"
    },
    {
     "data": {
      "image/png": "[encoded data removed]",
      "text/plain": [
       "<Figure size 432x288 with 1 Axes>"
      ]
     },
     "metadata": {
      "needs_background": "light"
     },
     "output_type": "display_data"
    }
   ],
   "source": [
    "fig = plt.figure()\n",
    "ax = fig.add_subplot(111)\n",
    "#plot potential (scaled)\n",
    "ax.plot(x, potential(x)/np.max(np.abs(potential(x))), lw = 2, color = 'grey')\n",
    "\n",
    "\n",
    "ax.plot(x, v[0]/np.max(v[0]), lw =2,label = \"E = {:.3f}\".format(E_FD[0]))\n",
    "ax.plot(x, v[1]/np.max(v[1]),lw = 2, label = \"E = {:.3f}\".format(E_FD[1]))\n",
    "ax.plot(x, v[2]/np.max(v[2]), lw = 2, label = \"E = {:.3f}\".format(E_FD[2]))\n",
    "\n",
    "ax.set_xlabel(\"x\", fontsize = 14)\n",
    "ax.set_ylabel('$\\psi$ (unnormalized)', fontsize = 14)\n",
    "\n",
    "ax.set_xlim([-8,8])\n",
    "#ax.set_ylim([-1, 1])\n",
    "ax.legend(loc = 4, fontsize =10,numpoints = 1 )"
   ]
  },
  {
   "cell_type": "code",
   "execution_count": 15,
   "metadata": {},
   "outputs": [
    {
     "name": "stdout",
     "output_type": "stream",
     "text": [
      "\n",
      "Ground state energy\n",
      "Matching: \t\t -9.833765216465958 \n",
      "Finite Difference:\t -9.83394417552\n",
      "\n",
      "First excite state energy\n",
      "Matching: \t\t -9.336000745337868 \n",
      "Finite Difference:\t -9.33682278061\n",
      "\n",
      "2nd excited state energy\n",
      "Matching: \t\t -8.50973393157125 \n",
      "Finite Difference:\t -8.51197272935\n"
     ]
    }
   ],
   "source": [
    "# Comparision of Shooting and Matching with Finite Difference:\n",
    "print(\"\\nGround state energy\")\n",
    "print(\"Matching: \\t\\t\", E_SM[0], \"\\nFinite Difference:\\t\", E_FD[0])\n",
    "\n",
    "print(\"\\nFirst excite state energy\")\n",
    "print(\"Matching: \\t\\t\", E_SM[1], \"\\nFinite Difference:\\t\", E_FD[1])\n",
    "\n",
    "print(\"\\n2nd excited state energy\")\n",
    "print(\"Matching: \\t\\t\", E_SM[2], \"\\nFinite Difference:\\t\", E_FD[2])"
   ]
  },
  {
   "cell_type": "code",
   "execution_count": null,
   "metadata": {},
   "outputs": [],
   "source": []
  }
 ],
 "metadata": {
  "kernelspec": {
   "display_name": "Python 3",
   "language": "python",
   "name": "python3"
  },
  "language_info": {
   "codemirror_mode": {
    "name": "ipython",
    "version": 3
   },
   "file_extension": ".py",
   "mimetype": "text/x-python",
   "name": "python",
   "nbconvert_exporter": "python",
   "pygments_lexer": "ipython3",
   "version": "3.6.7"
  }
 },
 "nbformat": 4,
 "nbformat_minor": 2
}
